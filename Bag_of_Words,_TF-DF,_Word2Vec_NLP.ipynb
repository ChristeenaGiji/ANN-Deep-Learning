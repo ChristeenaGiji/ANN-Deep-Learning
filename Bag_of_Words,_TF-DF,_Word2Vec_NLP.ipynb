{
  "nbformat": 4,
  "nbformat_minor": 0,
  "metadata": {
    "colab": {
      "provenance": [],
      "authorship_tag": "ABX9TyPtNgDpFixlNh3ZJO9Ko9T3",
      "include_colab_link": true
    },
    "kernelspec": {
      "name": "python3",
      "display_name": "Python 3"
    },
    "language_info": {
      "name": "python"
    }
  },
  "cells": [
    {
      "cell_type": "markdown",
      "metadata": {
        "id": "view-in-github",
        "colab_type": "text"
      },
      "source": [
        "<a href=\"https://colab.research.google.com/github/ChristeenaGiji/ANN-Deep-Learning/blob/main/Bag_of_Words%2C_TF-DF%2C_Word2Vec_NLP.ipynb\" target=\"_parent\"><img src=\"https://colab.research.google.com/assets/colab-badge.svg\" alt=\"Open In Colab\"/></a>"
      ]
    },
    {
      "cell_type": "code",
      "source": [
        "!pip install nltk\n"
      ],
      "metadata": {
        "id": "SHmRxZHO3j7C",
        "colab": {
          "base_uri": "https://localhost:8080/"
        },
        "outputId": "13851e57-91a8-4d40-d375-7af3a4d0c181"
      },
      "execution_count": 1,
      "outputs": [
        {
          "output_type": "stream",
          "name": "stdout",
          "text": [
            "Requirement already satisfied: nltk in /usr/local/lib/python3.10/dist-packages (3.8.1)\n",
            "Requirement already satisfied: click in /usr/local/lib/python3.10/dist-packages (from nltk) (8.1.7)\n",
            "Requirement already satisfied: joblib in /usr/local/lib/python3.10/dist-packages (from nltk) (1.4.2)\n",
            "Requirement already satisfied: regex>=2021.8.3 in /usr/local/lib/python3.10/dist-packages (from nltk) (2024.9.11)\n",
            "Requirement already satisfied: tqdm in /usr/local/lib/python3.10/dist-packages (from nltk) (4.66.5)\n"
          ]
        }
      ]
    },
    {
      "cell_type": "code",
      "source": [
        "paragraph=\"\"\" The prime minister of India (ISO: Bhārata kē/kī pradhānamaṁtrī) is the head of government of the Republic of India.[2][3] Executive authority is vested in the prime minister and his chosen Council of Ministers,[4][5][6] despite the president of India being the nominal head of the executive.[7][8][9][10] The prime minister has to be a member of one of the houses of bicameral Parliament of India, alongside heading the respective house.[11] The prime minister and his cabinet are at all times responsible to the Lok Sabha.[12][13]\n",
        "\n",
        "The prime minister is appointed by the president of India; however, the prime minister has to enjoy the confidence of the majority of Lok Sabha members, who are directly elected every five years, lest the prime minister shall resign. The prime minister can be a member of the Lok Sabha or the Rajya Sabha, the upper house of the parliament. The prime minister controls the selection and dismissal of members of the Union Council of Ministers; and allocation of posts to members within the government.\n",
        "\n",
        "\"\"\""
      ],
      "metadata": {
        "id": "VugkQpDxxEN5"
      },
      "execution_count": 2,
      "outputs": []
    },
    {
      "cell_type": "code",
      "source": [
        "paragraph"
      ],
      "metadata": {
        "colab": {
          "base_uri": "https://localhost:8080/",
          "height": 214
        },
        "id": "WvmCgL5XyrUr",
        "outputId": "33cb6efc-e9f6-4151-e252-2cf786083dd6"
      },
      "execution_count": 3,
      "outputs": [
        {
          "output_type": "execute_result",
          "data": {
            "text/plain": [
              "' The prime minister of India (ISO: Bhārata kē/kī pradhānamaṁtrī) is the head of government of the Republic of India.[2][3] Executive authority is vested in the prime minister and his chosen Council of Ministers,[4][5][6] despite the president of India being the nominal head of the executive.[7][8][9][10] The prime minister has to be a member of one of the houses of bicameral Parliament of India, alongside heading the respective house.[11] The prime minister and his cabinet are at all times responsible to the Lok Sabha.[12][13]\\n\\nThe prime minister is appointed by the president of India; however, the prime minister has to enjoy the confidence of the majority of Lok Sabha members, who are directly elected every five years, lest the prime minister shall resign. The prime minister can be a member of the Lok Sabha or the Rajya Sabha, the upper house of the parliament. The prime minister controls the selection and dismissal of members of the Union Council of Ministers; and allocation of posts to members within the government.\\n\\n'"
            ],
            "application/vnd.google.colaboratory.intrinsic+json": {
              "type": "string"
            }
          },
          "metadata": {},
          "execution_count": 3
        }
      ]
    },
    {
      "cell_type": "code",
      "source": [
        "import nltk\n",
        "from nltk.stem import PorterStemmer\n",
        "from nltk.corpus import stopwords"
      ],
      "metadata": {
        "id": "PbCLgGtGywHA"
      },
      "execution_count": 3,
      "outputs": []
    },
    {
      "cell_type": "code",
      "source": [
        "## tokenization -- converts paragrapghs to sentence words\n",
        "nltk.download('punkt')\n",
        "sentences= nltk.sent_tokenize(paragraph)\n"
      ],
      "metadata": {
        "colab": {
          "base_uri": "https://localhost:8080/"
        },
        "id": "WX9tdZvty7X3",
        "outputId": "392b3847-aeef-4068-cd51-b4f13f0cfad0"
      },
      "execution_count": 4,
      "outputs": [
        {
          "output_type": "stream",
          "name": "stderr",
          "text": [
            "[nltk_data] Downloading package punkt to /root/nltk_data...\n",
            "[nltk_data]   Unzipping tokenizers/punkt.zip.\n"
          ]
        }
      ]
    },
    {
      "cell_type": "code",
      "source": [
        "print(sentences)"
      ],
      "metadata": {
        "colab": {
          "base_uri": "https://localhost:8080/"
        },
        "id": "Ei6O78vxzYRl",
        "outputId": "ab136fa4-f607-4832-c2a5-626039dc87f1"
      },
      "execution_count": 5,
      "outputs": [
        {
          "output_type": "stream",
          "name": "stdout",
          "text": [
            "[' The prime minister of India (ISO: Bhārata kē/kī pradhānamaṁtrī) is the head of government of the Republic of India.', '[2][3] Executive authority is vested in the prime minister and his chosen Council of Ministers,[4][5][6] despite the president of India being the nominal head of the executive.', '[7][8][9][10] The prime minister has to be a member of one of the houses of bicameral Parliament of India, alongside heading the respective house.', '[11] The prime minister and his cabinet are at all times responsible to the Lok Sabha.', '[12][13]\\n\\nThe prime minister is appointed by the president of India; however, the prime minister has to enjoy the confidence of the majority of Lok Sabha members, who are directly elected every five years, lest the prime minister shall resign.', 'The prime minister can be a member of the Lok Sabha or the Rajya Sabha, the upper house of the parliament.', 'The prime minister controls the selection and dismissal of members of the Union Council of Ministers; and allocation of posts to members within the government.']\n"
          ]
        }
      ]
    },
    {
      "cell_type": "code",
      "source": [
        "stemmer=PorterStemmer()"
      ],
      "metadata": {
        "id": "SPFbb8owzl59"
      },
      "execution_count": 6,
      "outputs": []
    },
    {
      "cell_type": "code",
      "source": [
        "stemmer.stem('goes')"
      ],
      "metadata": {
        "colab": {
          "base_uri": "https://localhost:8080/",
          "height": 35
        },
        "id": "PrmoeMpSztT1",
        "outputId": "fdb6265f-ac0a-4fd7-e273-10c2e32ed10b"
      },
      "execution_count": 7,
      "outputs": [
        {
          "output_type": "execute_result",
          "data": {
            "text/plain": [
              "'goe'"
            ],
            "application/vnd.google.colaboratory.intrinsic+json": {
              "type": "string"
            }
          },
          "metadata": {},
          "execution_count": 7
        }
      ]
    },
    {
      "cell_type": "code",
      "source": [
        "stemmer.stem('gone')"
      ],
      "metadata": {
        "colab": {
          "base_uri": "https://localhost:8080/",
          "height": 35
        },
        "id": "dX4R8_gLz0Mu",
        "outputId": "b7a42e23-6565-4611-e327-777d1aa10f34"
      },
      "execution_count": 8,
      "outputs": [
        {
          "output_type": "execute_result",
          "data": {
            "text/plain": [
              "'gone'"
            ],
            "application/vnd.google.colaboratory.intrinsic+json": {
              "type": "string"
            }
          },
          "metadata": {},
          "execution_count": 8
        }
      ]
    },
    {
      "cell_type": "code",
      "source": [
        "stemmer.stem('thinking')"
      ],
      "metadata": {
        "colab": {
          "base_uri": "https://localhost:8080/",
          "height": 35
        },
        "id": "5emxiK23z3HD",
        "outputId": "28ea6dfc-f0af-46b8-bff6-58ff61d608c0"
      },
      "execution_count": 9,
      "outputs": [
        {
          "output_type": "execute_result",
          "data": {
            "text/plain": [
              "'think'"
            ],
            "application/vnd.google.colaboratory.intrinsic+json": {
              "type": "string"
            }
          },
          "metadata": {},
          "execution_count": 9
        }
      ]
    },
    {
      "cell_type": "code",
      "source": [
        "from nltk.stem import WordNetLemmatizer"
      ],
      "metadata": {
        "id": "rP_c4nNuz6A-"
      },
      "execution_count": 10,
      "outputs": []
    },
    {
      "cell_type": "code",
      "source": [
        "nltk.download('wordnet')"
      ],
      "metadata": {
        "colab": {
          "base_uri": "https://localhost:8080/"
        },
        "id": "zk81VuOr1CMp",
        "outputId": "9519ec98-8de7-47ab-9fb2-5aab8696511c"
      },
      "execution_count": 11,
      "outputs": [
        {
          "output_type": "stream",
          "name": "stderr",
          "text": [
            "[nltk_data] Downloading package wordnet to /root/nltk_data...\n"
          ]
        },
        {
          "output_type": "execute_result",
          "data": {
            "text/plain": [
              "True"
            ]
          },
          "metadata": {},
          "execution_count": 11
        }
      ]
    },
    {
      "cell_type": "code",
      "source": [
        "lemmatizer=WordNetLemmatizer()"
      ],
      "metadata": {
        "id": "T_MdvTLS0Cub"
      },
      "execution_count": 12,
      "outputs": []
    },
    {
      "cell_type": "code",
      "source": [
        "lemmatizer.lemmatize('goes')"
      ],
      "metadata": {
        "colab": {
          "base_uri": "https://localhost:8080/",
          "height": 35
        },
        "id": "iv8kFw3s0VDQ",
        "outputId": "a9d1cb6e-dc36-4978-dd2e-5305c9363f05"
      },
      "execution_count": 13,
      "outputs": [
        {
          "output_type": "execute_result",
          "data": {
            "text/plain": [
              "'go'"
            ],
            "application/vnd.google.colaboratory.intrinsic+json": {
              "type": "string"
            }
          },
          "metadata": {},
          "execution_count": 13
        }
      ]
    },
    {
      "cell_type": "code",
      "source": [
        "len(sentences)"
      ],
      "metadata": {
        "colab": {
          "base_uri": "https://localhost:8080/"
        },
        "id": "OEHbtZLu1XDA",
        "outputId": "32780d67-cf84-4d14-e02b-837e0545b9bc"
      },
      "execution_count": 14,
      "outputs": [
        {
          "output_type": "execute_result",
          "data": {
            "text/plain": [
              "7"
            ]
          },
          "metadata": {},
          "execution_count": 14
        }
      ]
    },
    {
      "cell_type": "code",
      "source": [
        "import re\n",
        "corpus=[]\n",
        "for i in range(len(sentences)):\n",
        "  review=re.sub('[^a-zA-Z]',' ',sentences[i])\n",
        "  review=review.lower()\n",
        "  corpus.append(review)"
      ],
      "metadata": {
        "id": "xO2XrfEt0s9v"
      },
      "execution_count": 15,
      "outputs": []
    },
    {
      "cell_type": "code",
      "source": [
        "corpus"
      ],
      "metadata": {
        "colab": {
          "base_uri": "https://localhost:8080/"
        },
        "id": "MDL5gw4N1oYT",
        "outputId": "c629607f-dd1f-4d0c-a869-c83f38f7d132"
      },
      "execution_count": 32,
      "outputs": [
        {
          "output_type": "execute_result",
          "data": {
            "text/plain": [
              "[' the prime minister of india  iso  bh rata k  k  pradh nama tr   is the head of government of the republic of india ',\n",
              " '       executive authority is vested in the prime minister and his chosen council of ministers           despite the president of india being the nominal head of the executive ',\n",
              " '              the prime minister has to be a member of one of the houses of bicameral parliament of india  alongside heading the respective house ',\n",
              " '     the prime minister and his cabinet are at all times responsible to the lok sabha ',\n",
              " '          the prime minister is appointed by the president of india  however  the prime minister has to enjoy the confidence of the majority of lok sabha members  who are directly elected every five years  lest the prime minister shall resign ',\n",
              " 'the prime minister can be a member of the lok sabha or the rajya sabha  the upper house of the parliament ',\n",
              " 'the prime minister controls the selection and dismissal of members of the union council of ministers  and allocation of posts to members within the government ']"
            ]
          },
          "metadata": {},
          "execution_count": 32
        }
      ]
    },
    {
      "cell_type": "code",
      "source": [
        "#Stemming\n",
        "\n",
        "for i in corpus : print (i)"
      ],
      "metadata": {
        "colab": {
          "base_uri": "https://localhost:8080/"
        },
        "id": "yDExQHIW1qAV",
        "outputId": "29407cc7-b6c2-4b32-c7a7-4cc1393496f2"
      },
      "execution_count": 16,
      "outputs": [
        {
          "output_type": "stream",
          "name": "stdout",
          "text": [
            " the prime minister of india  iso  bh rata k  k  pradh nama tr   is the head of government of the republic of india \n",
            "       executive authority is vested in the prime minister and his chosen council of ministers           despite the president of india being the nominal head of the executive \n",
            "              the prime minister has to be a member of one of the houses of bicameral parliament of india  alongside heading the respective house \n",
            "     the prime minister and his cabinet are at all times responsible to the lok sabha \n",
            "          the prime minister is appointed by the president of india  however  the prime minister has to enjoy the confidence of the majority of lok sabha members  who are directly elected every five years  lest the prime minister shall resign \n",
            "the prime minister can be a member of the lok sabha or the rajya sabha  the upper house of the parliament \n",
            "the prime minister controls the selection and dismissal of members of the union council of ministers  and allocation of posts to members within the government \n"
          ]
        }
      ]
    },
    {
      "cell_type": "code",
      "source": [
        "nltk.download('stopwords')"
      ],
      "metadata": {
        "colab": {
          "base_uri": "https://localhost:8080/"
        },
        "id": "crljd6U64Wbv",
        "outputId": "8ebde1af-c903-477d-b4b8-458f3c156c7f"
      },
      "execution_count": 17,
      "outputs": [
        {
          "output_type": "stream",
          "name": "stderr",
          "text": [
            "[nltk_data] Downloading package stopwords to /root/nltk_data...\n",
            "[nltk_data]   Unzipping corpora/stopwords.zip.\n"
          ]
        },
        {
          "output_type": "execute_result",
          "data": {
            "text/plain": [
              "True"
            ]
          },
          "metadata": {},
          "execution_count": 17
        }
      ]
    },
    {
      "cell_type": "code",
      "source": [
        "for i in corpus:\n",
        "  words=nltk.word_tokenize(i)\n",
        "  for word in words:\n",
        "    if word not in set(stopwords.words('english')):\n",
        "      print(stemmer.stem(word))\n",
        "\n",
        "  if word not in set(stopwords.words('english')):\n",
        "    print(stemmer.stem(word))"
      ],
      "metadata": {
        "colab": {
          "base_uri": "https://localhost:8080/"
        },
        "id": "JtBA8VXI1zK0",
        "outputId": "bc45cf40-043f-4283-af2e-b1185bdd9ed2"
      },
      "execution_count": 18,
      "outputs": [
        {
          "output_type": "stream",
          "name": "stdout",
          "text": [
            "prime\n",
            "minist\n",
            "india\n",
            "iso\n",
            "bh\n",
            "rata\n",
            "k\n",
            "k\n",
            "pradh\n",
            "nama\n",
            "tr\n",
            "head\n",
            "govern\n",
            "republ\n",
            "india\n",
            "india\n",
            "execut\n",
            "author\n",
            "vest\n",
            "prime\n",
            "minist\n",
            "chosen\n",
            "council\n",
            "minist\n",
            "despit\n",
            "presid\n",
            "india\n",
            "nomin\n",
            "head\n",
            "execut\n",
            "execut\n",
            "prime\n",
            "minist\n",
            "member\n",
            "one\n",
            "hous\n",
            "bicamer\n",
            "parliament\n",
            "india\n",
            "alongsid\n",
            "head\n",
            "respect\n",
            "hous\n",
            "hous\n",
            "prime\n",
            "minist\n",
            "cabinet\n",
            "time\n",
            "respons\n",
            "lok\n",
            "sabha\n",
            "sabha\n",
            "prime\n",
            "minist\n",
            "appoint\n",
            "presid\n",
            "india\n",
            "howev\n",
            "prime\n",
            "minist\n",
            "enjoy\n",
            "confid\n",
            "major\n",
            "lok\n",
            "sabha\n",
            "member\n",
            "directli\n",
            "elect\n",
            "everi\n",
            "five\n",
            "year\n",
            "lest\n",
            "prime\n",
            "minist\n",
            "shall\n",
            "resign\n",
            "resign\n",
            "prime\n",
            "minist\n",
            "member\n",
            "lok\n",
            "sabha\n",
            "rajya\n",
            "sabha\n",
            "upper\n",
            "hous\n",
            "parliament\n",
            "parliament\n",
            "prime\n",
            "minist\n",
            "control\n",
            "select\n",
            "dismiss\n",
            "member\n",
            "union\n",
            "council\n",
            "minist\n",
            "alloc\n",
            "post\n",
            "member\n",
            "within\n",
            "govern\n",
            "govern\n"
          ]
        }
      ]
    },
    {
      "cell_type": "code",
      "source": [
        "stopwords.words('english')"
      ],
      "metadata": {
        "colab": {
          "base_uri": "https://localhost:8080/"
        },
        "id": "DvfcCoJk4KET",
        "outputId": "65af2c0e-540a-49bc-83d7-c9b18ccba9f0"
      },
      "execution_count": 19,
      "outputs": [
        {
          "output_type": "execute_result",
          "data": {
            "text/plain": [
              "['i',\n",
              " 'me',\n",
              " 'my',\n",
              " 'myself',\n",
              " 'we',\n",
              " 'our',\n",
              " 'ours',\n",
              " 'ourselves',\n",
              " 'you',\n",
              " \"you're\",\n",
              " \"you've\",\n",
              " \"you'll\",\n",
              " \"you'd\",\n",
              " 'your',\n",
              " 'yours',\n",
              " 'yourself',\n",
              " 'yourselves',\n",
              " 'he',\n",
              " 'him',\n",
              " 'his',\n",
              " 'himself',\n",
              " 'she',\n",
              " \"she's\",\n",
              " 'her',\n",
              " 'hers',\n",
              " 'herself',\n",
              " 'it',\n",
              " \"it's\",\n",
              " 'its',\n",
              " 'itself',\n",
              " 'they',\n",
              " 'them',\n",
              " 'their',\n",
              " 'theirs',\n",
              " 'themselves',\n",
              " 'what',\n",
              " 'which',\n",
              " 'who',\n",
              " 'whom',\n",
              " 'this',\n",
              " 'that',\n",
              " \"that'll\",\n",
              " 'these',\n",
              " 'those',\n",
              " 'am',\n",
              " 'is',\n",
              " 'are',\n",
              " 'was',\n",
              " 'were',\n",
              " 'be',\n",
              " 'been',\n",
              " 'being',\n",
              " 'have',\n",
              " 'has',\n",
              " 'had',\n",
              " 'having',\n",
              " 'do',\n",
              " 'does',\n",
              " 'did',\n",
              " 'doing',\n",
              " 'a',\n",
              " 'an',\n",
              " 'the',\n",
              " 'and',\n",
              " 'but',\n",
              " 'if',\n",
              " 'or',\n",
              " 'because',\n",
              " 'as',\n",
              " 'until',\n",
              " 'while',\n",
              " 'of',\n",
              " 'at',\n",
              " 'by',\n",
              " 'for',\n",
              " 'with',\n",
              " 'about',\n",
              " 'against',\n",
              " 'between',\n",
              " 'into',\n",
              " 'through',\n",
              " 'during',\n",
              " 'before',\n",
              " 'after',\n",
              " 'above',\n",
              " 'below',\n",
              " 'to',\n",
              " 'from',\n",
              " 'up',\n",
              " 'down',\n",
              " 'in',\n",
              " 'out',\n",
              " 'on',\n",
              " 'off',\n",
              " 'over',\n",
              " 'under',\n",
              " 'again',\n",
              " 'further',\n",
              " 'then',\n",
              " 'once',\n",
              " 'here',\n",
              " 'there',\n",
              " 'when',\n",
              " 'where',\n",
              " 'why',\n",
              " 'how',\n",
              " 'all',\n",
              " 'any',\n",
              " 'both',\n",
              " 'each',\n",
              " 'few',\n",
              " 'more',\n",
              " 'most',\n",
              " 'other',\n",
              " 'some',\n",
              " 'such',\n",
              " 'no',\n",
              " 'nor',\n",
              " 'not',\n",
              " 'only',\n",
              " 'own',\n",
              " 'same',\n",
              " 'so',\n",
              " 'than',\n",
              " 'too',\n",
              " 'very',\n",
              " 's',\n",
              " 't',\n",
              " 'can',\n",
              " 'will',\n",
              " 'just',\n",
              " 'don',\n",
              " \"don't\",\n",
              " 'should',\n",
              " \"should've\",\n",
              " 'now',\n",
              " 'd',\n",
              " 'll',\n",
              " 'm',\n",
              " 'o',\n",
              " 're',\n",
              " 've',\n",
              " 'y',\n",
              " 'ain',\n",
              " 'aren',\n",
              " \"aren't\",\n",
              " 'couldn',\n",
              " \"couldn't\",\n",
              " 'didn',\n",
              " \"didn't\",\n",
              " 'doesn',\n",
              " \"doesn't\",\n",
              " 'hadn',\n",
              " \"hadn't\",\n",
              " 'hasn',\n",
              " \"hasn't\",\n",
              " 'haven',\n",
              " \"haven't\",\n",
              " 'isn',\n",
              " \"isn't\",\n",
              " 'ma',\n",
              " 'mightn',\n",
              " \"mightn't\",\n",
              " 'mustn',\n",
              " \"mustn't\",\n",
              " 'needn',\n",
              " \"needn't\",\n",
              " 'shan',\n",
              " \"shan't\",\n",
              " 'shouldn',\n",
              " \"shouldn't\",\n",
              " 'wasn',\n",
              " \"wasn't\",\n",
              " 'weren',\n",
              " \"weren't\",\n",
              " 'won',\n",
              " \"won't\",\n",
              " 'wouldn',\n",
              " \"wouldn't\"]"
            ]
          },
          "metadata": {},
          "execution_count": 19
        }
      ]
    },
    {
      "cell_type": "code",
      "source": [
        "##Lemmitization\n",
        "for i in corpus:\n",
        "  words=nltk.word_tokenize(i)\n",
        "  for word in words:\n",
        "    if word not in set(stopwords.words('english')):\n",
        "      print(lemmatizer.lemmatize(word))"
      ],
      "metadata": {
        "colab": {
          "base_uri": "https://localhost:8080/"
        },
        "id": "dcGA7l7g4fa-",
        "outputId": "b18316f2-591a-4bf3-9250-739a58da5f63"
      },
      "execution_count": 20,
      "outputs": [
        {
          "output_type": "stream",
          "name": "stdout",
          "text": [
            "prime\n",
            "minister\n",
            "india\n",
            "iso\n",
            "bh\n",
            "rata\n",
            "k\n",
            "k\n",
            "pradh\n",
            "nama\n",
            "tr\n",
            "head\n",
            "government\n",
            "republic\n",
            "india\n",
            "executive\n",
            "authority\n",
            "vested\n",
            "prime\n",
            "minister\n",
            "chosen\n",
            "council\n",
            "minister\n",
            "despite\n",
            "president\n",
            "india\n",
            "nominal\n",
            "head\n",
            "executive\n",
            "prime\n",
            "minister\n",
            "member\n",
            "one\n",
            "house\n",
            "bicameral\n",
            "parliament\n",
            "india\n",
            "alongside\n",
            "heading\n",
            "respective\n",
            "house\n",
            "prime\n",
            "minister\n",
            "cabinet\n",
            "time\n",
            "responsible\n",
            "lok\n",
            "sabha\n",
            "prime\n",
            "minister\n",
            "appointed\n",
            "president\n",
            "india\n",
            "however\n",
            "prime\n",
            "minister\n",
            "enjoy\n",
            "confidence\n",
            "majority\n",
            "lok\n",
            "sabha\n",
            "member\n",
            "directly\n",
            "elected\n",
            "every\n",
            "five\n",
            "year\n",
            "lest\n",
            "prime\n",
            "minister\n",
            "shall\n",
            "resign\n",
            "prime\n",
            "minister\n",
            "member\n",
            "lok\n",
            "sabha\n",
            "rajya\n",
            "sabha\n",
            "upper\n",
            "house\n",
            "parliament\n",
            "prime\n",
            "minister\n",
            "control\n",
            "selection\n",
            "dismissal\n",
            "member\n",
            "union\n",
            "council\n",
            "minister\n",
            "allocation\n",
            "post\n",
            "member\n",
            "within\n",
            "government\n"
          ]
        }
      ]
    },
    {
      "cell_type": "code",
      "source": [],
      "metadata": {
        "id": "Srf0_qKIFfys"
      },
      "execution_count": null,
      "outputs": []
    },
    {
      "cell_type": "code",
      "source": [
        "from sklearn.feature_extraction.text import CountVectorizer\n",
        "cv=CountVectorizer()\n",
        "X=cv.fit_transform(corpus).toarray()"
      ],
      "metadata": {
        "id": "oD7lQEeP4yRr"
      },
      "execution_count": 21,
      "outputs": []
    },
    {
      "cell_type": "code",
      "source": [
        "cv.vocabulary_"
      ],
      "metadata": {
        "colab": {
          "base_uri": "https://localhost:8080/"
        },
        "id": "_OGqEAH-5GIw",
        "outputId": "505b3bdc-713a-4feb-8c62-0fc4f2cca801"
      },
      "execution_count": 22,
      "outputs": [
        {
          "output_type": "execute_result",
          "data": {
            "text/plain": [
              "{'the': 65,\n",
              " 'prime': 55,\n",
              " 'minister': 44,\n",
              " 'of': 48,\n",
              " 'india': 36,\n",
              " 'iso': 38,\n",
              " 'bh': 10,\n",
              " 'rata': 57,\n",
              " 'pradh': 53,\n",
              " 'nama': 46,\n",
              " 'tr': 68,\n",
              " 'is': 37,\n",
              " 'head': 29,\n",
              " 'government': 27,\n",
              " 'republic': 58,\n",
              " 'executive': 25,\n",
              " 'authority': 7,\n",
              " 'vested': 71,\n",
              " 'in': 35,\n",
              " 'and': 3,\n",
              " 'his': 31,\n",
              " 'chosen': 15,\n",
              " 'council': 18,\n",
              " 'ministers': 45,\n",
              " 'despite': 19,\n",
              " 'president': 54,\n",
              " 'being': 9,\n",
              " 'nominal': 47,\n",
              " 'has': 28,\n",
              " 'to': 67,\n",
              " 'be': 8,\n",
              " 'member': 42,\n",
              " 'one': 49,\n",
              " 'houses': 33,\n",
              " 'bicameral': 11,\n",
              " 'parliament': 51,\n",
              " 'alongside': 2,\n",
              " 'heading': 30,\n",
              " 'respective': 60,\n",
              " 'house': 32,\n",
              " 'cabinet': 13,\n",
              " 'are': 5,\n",
              " 'at': 6,\n",
              " 'all': 0,\n",
              " 'times': 66,\n",
              " 'responsible': 61,\n",
              " 'lok': 40,\n",
              " 'sabha': 62,\n",
              " 'appointed': 4,\n",
              " 'by': 12,\n",
              " 'however': 34,\n",
              " 'enjoy': 23,\n",
              " 'confidence': 16,\n",
              " 'majority': 41,\n",
              " 'members': 43,\n",
              " 'who': 72,\n",
              " 'directly': 20,\n",
              " 'elected': 22,\n",
              " 'every': 24,\n",
              " 'five': 26,\n",
              " 'years': 74,\n",
              " 'lest': 39,\n",
              " 'shall': 64,\n",
              " 'resign': 59,\n",
              " 'can': 14,\n",
              " 'or': 50,\n",
              " 'rajya': 56,\n",
              " 'upper': 70,\n",
              " 'controls': 17,\n",
              " 'selection': 63,\n",
              " 'dismissal': 21,\n",
              " 'union': 69,\n",
              " 'allocation': 1,\n",
              " 'posts': 52,\n",
              " 'within': 73}"
            ]
          },
          "metadata": {},
          "execution_count": 22
        }
      ]
    },
    {
      "cell_type": "code",
      "source": [
        "corpus[0]"
      ],
      "metadata": {
        "colab": {
          "base_uri": "https://localhost:8080/",
          "height": 53
        },
        "id": "lIQoKe5K5KBC",
        "outputId": "1039c2c2-db75-447b-a8cf-79c2b21d05f1"
      },
      "execution_count": 23,
      "outputs": [
        {
          "output_type": "execute_result",
          "data": {
            "text/plain": [
              "' the prime minister of india  iso  bh rata k  k  pradh nama tr   is the head of government of the republic of india '"
            ],
            "application/vnd.google.colaboratory.intrinsic+json": {
              "type": "string"
            }
          },
          "metadata": {},
          "execution_count": 23
        }
      ]
    },
    {
      "cell_type": "code",
      "source": [
        "X[0]"
      ],
      "metadata": {
        "colab": {
          "base_uri": "https://localhost:8080/"
        },
        "id": "O2-56-RyDibQ",
        "outputId": "5c0824dd-d499-44f7-df14-75875da39037"
      },
      "execution_count": 24,
      "outputs": [
        {
          "output_type": "execute_result",
          "data": {
            "text/plain": [
              "array([0, 0, 0, 0, 0, 0, 0, 0, 0, 0, 1, 0, 0, 0, 0, 0, 0, 0, 0, 0, 0, 0,\n",
              "       0, 0, 0, 0, 0, 1, 0, 1, 0, 0, 0, 0, 0, 0, 2, 1, 1, 0, 0, 0, 0, 0,\n",
              "       1, 0, 1, 0, 4, 0, 0, 0, 0, 1, 0, 1, 0, 1, 1, 0, 0, 0, 0, 0, 0, 3,\n",
              "       0, 0, 1, 0, 0, 0, 0, 0, 0])"
            ]
          },
          "metadata": {},
          "execution_count": 24
        }
      ]
    },
    {
      "cell_type": "code",
      "source": [
        "X[0].shape"
      ],
      "metadata": {
        "colab": {
          "base_uri": "https://localhost:8080/"
        },
        "id": "6DqRrcH7Dnlc",
        "outputId": "c4d1ab94-741b-4cb1-8a88-4233740c8e6a"
      },
      "execution_count": 25,
      "outputs": [
        {
          "output_type": "execute_result",
          "data": {
            "text/plain": [
              "(75,)"
            ]
          },
          "metadata": {},
          "execution_count": 25
        }
      ]
    },
    {
      "cell_type": "code",
      "source": [
        "# if we need to convert to binary bow - SO NO 2\n",
        "from sklearn.feature_extraction.text import CountVectorizer\n",
        "cv=CountVectorizer(binary=True)\n",
        "X=cv.fit_transform(corpus).toarray()"
      ],
      "metadata": {
        "id": "WamqxLrLD8YZ"
      },
      "execution_count": 26,
      "outputs": []
    },
    {
      "cell_type": "code",
      "source": [
        "X[0]"
      ],
      "metadata": {
        "colab": {
          "base_uri": "https://localhost:8080/"
        },
        "id": "bRyaTpIQFO19",
        "outputId": "10b8bc6c-f6be-4bcd-841d-dad24b17e983"
      },
      "execution_count": 51,
      "outputs": [
        {
          "output_type": "execute_result",
          "data": {
            "text/plain": [
              "array([0, 0, 0, 0, 0, 0, 0, 0, 0, 0, 1, 0, 0, 0, 0, 0, 0, 0, 0, 0, 0, 0,\n",
              "       0, 0, 0, 0, 0, 1, 0, 1, 0, 0, 0, 0, 0, 0, 1, 1, 1, 0, 0, 0, 0, 0,\n",
              "       1, 0, 1, 0, 1, 0, 0, 0, 0, 1, 0, 1, 0, 1, 1, 0, 0, 0, 0, 0, 0, 1,\n",
              "       0, 0, 1, 0, 0, 0, 0, 0, 0])"
            ]
          },
          "metadata": {},
          "execution_count": 51
        }
      ]
    },
    {
      "cell_type": "code",
      "source": [
        "#if apply stopWords\n",
        "##Apply Stopwords. Lemmatize\n",
        "\n",
        "import re\n",
        "corpus=[]\n",
        "for i in range(len(sentences)):\n",
        "  review=re.sub('[^a-zA-Z]',' ',sentences[i])\n",
        "  review=review.lower()\n",
        "  review=review.split()\n",
        "  review=[lemmatizer.lemmatize(word) for word in review if not word in set(stopwords.words('english'))]\n",
        "  review=' '.join(review)\n",
        "  corpus.append(review)"
      ],
      "metadata": {
        "id": "4vIabJiCFRai"
      },
      "execution_count": 27,
      "outputs": []
    },
    {
      "cell_type": "code",
      "source": [
        "#Bag of words\n",
        "from sklearn.feature_extraction.text import CountVectorizer\n",
        "cv=CountVectorizer()\n",
        "X=cv.fit_transform(corpus).toarray()"
      ],
      "metadata": {
        "id": "9YVncGDxGA7b"
      },
      "execution_count": 29,
      "outputs": []
    },
    {
      "cell_type": "code",
      "source": [
        "X[0]"
      ],
      "metadata": {
        "colab": {
          "base_uri": "https://localhost:8080/"
        },
        "id": "JgyQB4OjGndg",
        "outputId": "e8a9e331-d99b-4aa8-d033-8295d093b214"
      },
      "execution_count": 55,
      "outputs": [
        {
          "output_type": "execute_result",
          "data": {
            "text/plain": [
              "array([0, 0, 0, 0, 1, 0, 0, 0, 0, 0, 0, 0, 0, 0, 0, 0, 0, 0, 0, 1, 1, 0,\n",
              "       0, 0, 2, 1, 0, 0, 0, 0, 1, 1, 0, 0, 0, 0, 1, 0, 1, 0, 1, 1, 0, 0,\n",
              "       0, 0, 0, 0, 0, 1, 0, 0, 0, 0, 0])"
            ]
          },
          "metadata": {},
          "execution_count": 55
        }
      ]
    },
    {
      "cell_type": "code",
      "source": [
        "#Bag of words: for trigrams use ng_grams\n",
        "from sklearn.feature_extraction.text import CountVectorizer\n",
        "cv=CountVectorizer(binary=True,ngram_range=(3,3))\n",
        "X=cv.fit_transform(corpus).toarray()\n"
      ],
      "metadata": {
        "id": "JFWrAAOHGpQI"
      },
      "execution_count": 44,
      "outputs": []
    },
    {
      "cell_type": "code",
      "source": [
        "cv.vocabulary_"
      ],
      "metadata": {
        "colab": {
          "base_uri": "https://localhost:8080/"
        },
        "id": "KLLDBoKoNPYH",
        "outputId": "b3cce5af-17de-488e-a01f-aa18d2888566"
      },
      "execution_count": 45,
      "outputs": [
        {
          "output_type": "execute_result",
          "data": {
            "text/plain": [
              "{'prime minister india': 63,\n",
              " 'minister india iso': 46,\n",
              " 'india iso bh': 27,\n",
              " 'iso bh rata': 29,\n",
              " 'bh rata pradh': 4,\n",
              " 'rata pradh nama': 67,\n",
              " 'pradh nama tr': 55,\n",
              " 'nama tr head': 50,\n",
              " 'tr head government': 74,\n",
              " 'head government republic': 21,\n",
              " 'government republic india': 20,\n",
              " 'executive authority vested': 18,\n",
              " 'authority vested prime': 3,\n",
              " 'vested prime minister': 77,\n",
              " 'prime minister chosen': 60,\n",
              " 'minister chosen council': 42,\n",
              " 'chosen council minister': 7,\n",
              " 'council minister despite': 11,\n",
              " 'minister despite president': 44,\n",
              " 'despite president india': 12,\n",
              " 'president india nominal': 57,\n",
              " 'india nominal head': 28,\n",
              " 'nominal head executive': 51,\n",
              " 'prime minister member': 64,\n",
              " 'minister member one': 48,\n",
              " 'member one house': 36,\n",
              " 'one house bicameral': 52,\n",
              " 'house bicameral parliament': 23,\n",
              " 'bicameral parliament india': 5,\n",
              " 'parliament india alongside': 53,\n",
              " 'india alongside heading': 25,\n",
              " 'alongside heading respective': 1,\n",
              " 'heading respective house': 22,\n",
              " 'prime minister cabinet': 59,\n",
              " 'minister cabinet time': 41,\n",
              " 'cabinet time responsible': 6,\n",
              " 'time responsible lok': 73,\n",
              " 'responsible lok sabha': 68,\n",
              " 'prime minister appointed': 58,\n",
              " 'minister appointed president': 40,\n",
              " 'appointed president india': 2,\n",
              " 'president india however': 56,\n",
              " 'india however prime': 26,\n",
              " 'however prime minister': 24,\n",
              " 'prime minister enjoy': 62,\n",
              " 'minister enjoy confidence': 45,\n",
              " 'enjoy confidence majority': 16,\n",
              " 'confidence majority lok': 8,\n",
              " 'majority lok sabha': 33,\n",
              " 'lok sabha member': 31,\n",
              " 'sabha member directly': 69,\n",
              " 'member directly elected': 34,\n",
              " 'directly elected every': 13,\n",
              " 'elected every five': 15,\n",
              " 'every five year': 17,\n",
              " 'five year lest': 19,\n",
              " 'year lest prime': 78,\n",
              " 'lest prime minister': 30,\n",
              " 'prime minister shall': 65,\n",
              " 'minister shall resign': 49,\n",
              " 'minister member lok': 47,\n",
              " 'member lok sabha': 35,\n",
              " 'lok sabha rajya': 32,\n",
              " 'sabha rajya sabha': 70,\n",
              " 'rajya sabha upper': 66,\n",
              " 'sabha upper house': 71,\n",
              " 'upper house parliament': 76,\n",
              " 'prime minister control': 61,\n",
              " 'minister control selection': 43,\n",
              " 'control selection dismissal': 9,\n",
              " 'selection dismissal member': 72,\n",
              " 'dismissal member union': 14,\n",
              " 'member union council': 37,\n",
              " 'union council minister': 75,\n",
              " 'council minister allocation': 10,\n",
              " 'minister allocation post': 39,\n",
              " 'allocation post member': 0,\n",
              " 'post member within': 54,\n",
              " 'member within government': 38}"
            ]
          },
          "metadata": {},
          "execution_count": 45
        }
      ]
    },
    {
      "cell_type": "code",
      "source": [
        "#Bag of words: for bigrams and trigrams use ng_grams\n",
        "from sklearn.feature_extraction.text import CountVectorizer\n",
        "cv=CountVectorizer(binary=True,ngram_range=(2,3))\n",
        "X=cv.fit_transform(corpus).toarray()"
      ],
      "metadata": {
        "id": "FXZmtN0INIxX"
      },
      "execution_count": 46,
      "outputs": []
    },
    {
      "cell_type": "code",
      "source": [
        "cv.vocabulary_"
      ],
      "metadata": {
        "colab": {
          "base_uri": "https://localhost:8080/"
        },
        "id": "mIUwOd-mMj_e",
        "outputId": "9be16404-0851-4ecb-9fe7-dcb370405242"
      },
      "execution_count": 47,
      "outputs": [
        {
          "output_type": "execute_result",
          "data": {
            "text/plain": [
              "{'prime minister': 114,\n",
              " 'minister india': 92,\n",
              " 'india iso': 55,\n",
              " 'iso bh': 59,\n",
              " 'bh rata': 8,\n",
              " 'rata pradh': 125,\n",
              " 'pradh nama': 109,\n",
              " 'nama tr': 99,\n",
              " 'tr head': 142,\n",
              " 'head government': 42,\n",
              " 'government republic': 39,\n",
              " 'republic india': 127,\n",
              " 'prime minister india': 120,\n",
              " 'minister india iso': 93,\n",
              " 'india iso bh': 56,\n",
              " 'iso bh rata': 60,\n",
              " 'bh rata pradh': 9,\n",
              " 'rata pradh nama': 126,\n",
              " 'pradh nama tr': 110,\n",
              " 'nama tr head': 100,\n",
              " 'tr head government': 143,\n",
              " 'head government republic': 43,\n",
              " 'government republic india': 40,\n",
              " 'executive authority': 35,\n",
              " 'authority vested': 6,\n",
              " 'vested prime': 148,\n",
              " 'minister chosen': 84,\n",
              " 'chosen council': 14,\n",
              " 'council minister': 20,\n",
              " 'minister despite': 88,\n",
              " 'despite president': 23,\n",
              " 'president india': 111,\n",
              " 'india nominal': 57,\n",
              " 'nominal head': 101,\n",
              " 'head executive': 41,\n",
              " 'executive authority vested': 36,\n",
              " 'authority vested prime': 7,\n",
              " 'vested prime minister': 149,\n",
              " 'prime minister chosen': 117,\n",
              " 'minister chosen council': 85,\n",
              " 'chosen council minister': 15,\n",
              " 'council minister despite': 22,\n",
              " 'minister despite president': 89,\n",
              " 'despite president india': 24,\n",
              " 'president india nominal': 113,\n",
              " 'india nominal head': 58,\n",
              " 'nominal head executive': 102,\n",
              " 'minister member': 94,\n",
              " 'member one': 72,\n",
              " 'one house': 103,\n",
              " 'house bicameral': 46,\n",
              " 'bicameral parliament': 10,\n",
              " 'parliament india': 105,\n",
              " 'india alongside': 51,\n",
              " 'alongside heading': 2,\n",
              " 'heading respective': 44,\n",
              " 'respective house': 128,\n",
              " 'prime minister member': 121,\n",
              " 'minister member one': 96,\n",
              " 'member one house': 73,\n",
              " 'one house bicameral': 104,\n",
              " 'house bicameral parliament': 47,\n",
              " 'bicameral parliament india': 11,\n",
              " 'parliament india alongside': 106,\n",
              " 'india alongside heading': 52,\n",
              " 'alongside heading respective': 3,\n",
              " 'heading respective house': 45,\n",
              " 'minister cabinet': 82,\n",
              " 'cabinet time': 12,\n",
              " 'time responsible': 140,\n",
              " 'responsible lok': 129,\n",
              " 'lok sabha': 63,\n",
              " 'prime minister cabinet': 116,\n",
              " 'minister cabinet time': 83,\n",
              " 'cabinet time responsible': 13,\n",
              " 'time responsible lok': 141,\n",
              " 'responsible lok sabha': 130,\n",
              " 'minister appointed': 80,\n",
              " 'appointed president': 4,\n",
              " 'india however': 53,\n",
              " 'however prime': 49,\n",
              " 'minister enjoy': 90,\n",
              " 'enjoy confidence': 31,\n",
              " 'confidence majority': 16,\n",
              " 'majority lok': 66,\n",
              " 'sabha member': 131,\n",
              " 'member directly': 68,\n",
              " 'directly elected': 25,\n",
              " 'elected every': 29,\n",
              " 'every five': 33,\n",
              " 'five year': 37,\n",
              " 'year lest': 151,\n",
              " 'lest prime': 61,\n",
              " 'minister shall': 97,\n",
              " 'shall resign': 139,\n",
              " 'prime minister appointed': 115,\n",
              " 'minister appointed president': 81,\n",
              " 'appointed president india': 5,\n",
              " 'president india however': 112,\n",
              " 'india however prime': 54,\n",
              " 'however prime minister': 50,\n",
              " 'prime minister enjoy': 119,\n",
              " 'minister enjoy confidence': 91,\n",
              " 'enjoy confidence majority': 32,\n",
              " 'confidence majority lok': 17,\n",
              " 'majority lok sabha': 67,\n",
              " 'lok sabha member': 64,\n",
              " 'sabha member directly': 132,\n",
              " 'member directly elected': 69,\n",
              " 'directly elected every': 26,\n",
              " 'elected every five': 30,\n",
              " 'every five year': 34,\n",
              " 'five year lest': 38,\n",
              " 'year lest prime': 152,\n",
              " 'lest prime minister': 62,\n",
              " 'prime minister shall': 122,\n",
              " 'minister shall resign': 98,\n",
              " 'member lok': 70,\n",
              " 'sabha rajya': 133,\n",
              " 'rajya sabha': 123,\n",
              " 'sabha upper': 135,\n",
              " 'upper house': 146,\n",
              " 'house parliament': 48,\n",
              " 'minister member lok': 95,\n",
              " 'member lok sabha': 71,\n",
              " 'lok sabha rajya': 65,\n",
              " 'sabha rajya sabha': 134,\n",
              " 'rajya sabha upper': 124,\n",
              " 'sabha upper house': 136,\n",
              " 'upper house parliament': 147,\n",
              " 'minister control': 86,\n",
              " 'control selection': 18,\n",
              " 'selection dismissal': 137,\n",
              " 'dismissal member': 27,\n",
              " 'member union': 74,\n",
              " 'union council': 144,\n",
              " 'minister allocation': 78,\n",
              " 'allocation post': 0,\n",
              " 'post member': 107,\n",
              " 'member within': 76,\n",
              " 'within government': 150,\n",
              " 'prime minister control': 118,\n",
              " 'minister control selection': 87,\n",
              " 'control selection dismissal': 19,\n",
              " 'selection dismissal member': 138,\n",
              " 'dismissal member union': 28,\n",
              " 'member union council': 75,\n",
              " 'union council minister': 145,\n",
              " 'council minister allocation': 21,\n",
              " 'minister allocation post': 79,\n",
              " 'allocation post member': 1,\n",
              " 'post member within': 108,\n",
              " 'member within government': 77}"
            ]
          },
          "metadata": {},
          "execution_count": 47
        }
      ]
    },
    {
      "cell_type": "code",
      "source": [
        "X[0]"
      ],
      "metadata": {
        "colab": {
          "base_uri": "https://localhost:8080/"
        },
        "id": "Q3Yh8SPFM1R8",
        "outputId": "8558b029-7891-4f0a-8409-dd3afbd8f97f"
      },
      "execution_count": 48,
      "outputs": [
        {
          "output_type": "execute_result",
          "data": {
            "text/plain": [
              "array([0, 0, 0, 0, 0, 0, 0, 0, 1, 1, 0, 0, 0, 0, 0, 0, 0, 0, 0, 0, 0, 0,\n",
              "       0, 0, 0, 0, 0, 0, 0, 0, 0, 0, 0, 0, 0, 0, 0, 0, 0, 1, 1, 0, 1, 1,\n",
              "       0, 0, 0, 0, 0, 0, 0, 0, 0, 0, 0, 1, 1, 0, 0, 1, 1, 0, 0, 0, 0, 0,\n",
              "       0, 0, 0, 0, 0, 0, 0, 0, 0, 0, 0, 0, 0, 0, 0, 0, 0, 0, 0, 0, 0, 0,\n",
              "       0, 0, 0, 0, 1, 1, 0, 0, 0, 0, 0, 1, 1, 0, 0, 0, 0, 0, 0, 0, 0, 1,\n",
              "       1, 0, 0, 0, 1, 0, 0, 0, 0, 0, 1, 0, 0, 0, 0, 1, 1, 1, 0, 0, 0, 0,\n",
              "       0, 0, 0, 0, 0, 0, 0, 0, 0, 0, 1, 1, 0, 0, 0, 0, 0, 0, 0, 0, 0])"
            ]
          },
          "metadata": {},
          "execution_count": 48
        }
      ]
    },
    {
      "cell_type": "markdown",
      "source": [
        "#TF-IDF\n"
      ],
      "metadata": {
        "id": "ykUDzm7TNj75"
      }
    },
    {
      "cell_type": "code",
      "source": [
        "from sklearn.feature_extraction.text import TfidfVectorizer\n",
        "cv=TfidfVectorizer()\n",
        "X=cv.fit_transform(corpus).toarray()"
      ],
      "metadata": {
        "id": "C1_nf3W9Neco"
      },
      "execution_count": 49,
      "outputs": []
    },
    {
      "cell_type": "code",
      "source": [
        "corpus[0]"
      ],
      "metadata": {
        "colab": {
          "base_uri": "https://localhost:8080/",
          "height": 35
        },
        "id": "rIIepDZiNr90",
        "outputId": "32ba9d56-2e34-47a5-e519-f5a63522a753"
      },
      "execution_count": 50,
      "outputs": [
        {
          "output_type": "execute_result",
          "data": {
            "text/plain": [
              "'prime minister india iso bh rata k k pradh nama tr head government republic india'"
            ],
            "application/vnd.google.colaboratory.intrinsic+json": {
              "type": "string"
            }
          },
          "metadata": {},
          "execution_count": 50
        }
      ]
    },
    {
      "cell_type": "code",
      "source": [
        "X[0]"
      ],
      "metadata": {
        "colab": {
          "base_uri": "https://localhost:8080/"
        },
        "id": "SkfW4x_3Nts8",
        "outputId": "56ceb47b-2df2-43d1-f49d-9d8a49a1120d"
      },
      "execution_count": 51,
      "outputs": [
        {
          "output_type": "execute_result",
          "data": {
            "text/plain": [
              "array([0.        , 0.        , 0.        , 0.        , 0.31238978,\n",
              "       0.        , 0.        , 0.        , 0.        , 0.        ,\n",
              "       0.        , 0.        , 0.        , 0.        , 0.        ,\n",
              "       0.        , 0.        , 0.        , 0.        , 0.25931035,\n",
              "       0.25931035, 0.        , 0.        , 0.        , 0.38487634,\n",
              "       0.31238978, 0.        , 0.        , 0.        , 0.        ,\n",
              "       0.13091   , 0.31238978, 0.        , 0.        , 0.        ,\n",
              "       0.        , 0.31238978, 0.        , 0.13091   , 0.        ,\n",
              "       0.31238978, 0.31238978, 0.        , 0.        , 0.        ,\n",
              "       0.        , 0.        , 0.        , 0.        , 0.31238978,\n",
              "       0.        , 0.        , 0.        , 0.        , 0.        ])"
            ]
          },
          "metadata": {},
          "execution_count": 51
        }
      ]
    },
    {
      "cell_type": "code",
      "source": [
        "#Trigram\n",
        "from sklearn.feature_extraction.text import TfidfVectorizer\n",
        "cv=TfidfVectorizer(ngram_range=(3,3))\n",
        "X=cv.fit_transform(corpus).toarray()"
      ],
      "metadata": {
        "id": "0hakNSDZNwdn"
      },
      "execution_count": 53,
      "outputs": []
    },
    {
      "cell_type": "code",
      "source": [
        "corpus[0]"
      ],
      "metadata": {
        "colab": {
          "base_uri": "https://localhost:8080/",
          "height": 35
        },
        "id": "IHMH05gjOMEO",
        "outputId": "5db278df-03b7-420c-9da3-767b5b0d61c8"
      },
      "execution_count": 54,
      "outputs": [
        {
          "output_type": "execute_result",
          "data": {
            "text/plain": [
              "'prime minister india iso bh rata k k pradh nama tr head government republic india'"
            ],
            "application/vnd.google.colaboratory.intrinsic+json": {
              "type": "string"
            }
          },
          "metadata": {},
          "execution_count": 54
        }
      ]
    },
    {
      "cell_type": "code",
      "source": [
        "X[0]"
      ],
      "metadata": {
        "colab": {
          "base_uri": "https://localhost:8080/"
        },
        "id": "w9cKTes5OQIi",
        "outputId": "b7f0e98e-82f6-4752-9e61-38a2aeabc3d7"
      },
      "execution_count": 55,
      "outputs": [
        {
          "output_type": "execute_result",
          "data": {
            "text/plain": [
              "array([0.        , 0.        , 0.        , 0.        , 0.30151134,\n",
              "       0.        , 0.        , 0.        , 0.        , 0.        ,\n",
              "       0.        , 0.        , 0.        , 0.        , 0.        ,\n",
              "       0.        , 0.        , 0.        , 0.        , 0.        ,\n",
              "       0.30151134, 0.30151134, 0.        , 0.        , 0.        ,\n",
              "       0.        , 0.        , 0.30151134, 0.        , 0.30151134,\n",
              "       0.        , 0.        , 0.        , 0.        , 0.        ,\n",
              "       0.        , 0.        , 0.        , 0.        , 0.        ,\n",
              "       0.        , 0.        , 0.        , 0.        , 0.        ,\n",
              "       0.        , 0.30151134, 0.        , 0.        , 0.        ,\n",
              "       0.30151134, 0.        , 0.        , 0.        , 0.        ,\n",
              "       0.30151134, 0.        , 0.        , 0.        , 0.        ,\n",
              "       0.        , 0.        , 0.        , 0.30151134, 0.        ,\n",
              "       0.        , 0.        , 0.30151134, 0.        , 0.        ,\n",
              "       0.        , 0.        , 0.        , 0.        , 0.30151134,\n",
              "       0.        , 0.        , 0.        , 0.        ])"
            ]
          },
          "metadata": {},
          "execution_count": 55
        }
      ]
    },
    {
      "cell_type": "markdown",
      "source": [
        "### we get for different grams : different values"
      ],
      "metadata": {
        "id": "OBESAZnDOXqQ"
      }
    },
    {
      "cell_type": "markdown",
      "source": [
        "### if want to use the word if the frequency of the word IS TOP 3by using max_features. resulting array will reduce\n"
      ],
      "metadata": {
        "id": "Zgc-FzY3O2BP"
      }
    },
    {
      "cell_type": "code",
      "source": [
        "#Trigram\n",
        "from sklearn.feature_extraction.text import TfidfVectorizer\n",
        "cv=TfidfVectorizer(ngram_range=(3,3),max_features=3)\n",
        "X=cv.fit_transform(corpus).toarray()"
      ],
      "metadata": {
        "id": "yBaEROWqOSOT"
      },
      "execution_count": 57,
      "outputs": []
    },
    {
      "cell_type": "code",
      "source": [
        "X[0]"
      ],
      "metadata": {
        "colab": {
          "base_uri": "https://localhost:8080/"
        },
        "id": "BQG403c_Oyu3",
        "outputId": "a70b4097-5140-4976-d839-8ca67749cced"
      },
      "execution_count": 58,
      "outputs": [
        {
          "output_type": "execute_result",
          "data": {
            "text/plain": [
              "array([0., 1., 0.])"
            ]
          },
          "metadata": {},
          "execution_count": 58
        }
      ]
    },
    {
      "cell_type": "code",
      "source": [],
      "metadata": {
        "id": "gvg7lbeGPAPc"
      },
      "execution_count": null,
      "outputs": []
    }
  ]
}